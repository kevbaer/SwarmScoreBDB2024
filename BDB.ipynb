{
  "nbformat": 4,
  "nbformat_minor": 0,
  "metadata": {
    "colab": {
      "provenance": [],
      "authorship_tag": "ABX9TyMZxU90OhdwOeEgmtUhF0PV",
      "include_colab_link": true
    },
    "kernelspec": {
      "name": "python3",
      "display_name": "Python 3"
    },
    "language_info": {
      "name": "python"
    }
  },
  "cells": [
    {
      "cell_type": "markdown",
      "metadata": {
        "id": "view-in-github",
        "colab_type": "text"
      },
      "source": [
        "<a href=\"https://colab.research.google.com/github/kevbaer/BDB2024/blob/main/BDB.ipynb\" target=\"_parent\"><img src=\"https://colab.research.google.com/assets/colab-badge.svg\" alt=\"Open In Colab\"/></a>"
      ]
    },
    {
      "cell_type": "markdown",
      "source": [
        "# Importing Libraries and Data"
      ],
      "metadata": {
        "id": "xPW_zVdJ5BLT"
      }
    },
    {
      "cell_type": "code",
      "execution_count": 1,
      "metadata": {
        "id": "-zo360NIjXSJ"
      },
      "outputs": [],
      "source": [
        "#libraries\n",
        "import pandas as pd\n",
        "import numpy as np\n",
        "import matplotlib.pyplot as plt\n",
        "import scipy\n",
        "\n",
        "import seaborn as sns\n",
        "from mpl_toolkits.mplot3d import Axes3D"
      ]
    },
    {
      "cell_type": "code",
      "source": [
        "# These are for the rally calculations at the time where catch is made, or Frame 6\n",
        "\n",
        "playsWeek1 = pd.read_csv(\"playsWeek1.csv\")\n",
        "playsWeek2 = pd.read_csv(\"playsWeek2.csv\")\n",
        "playsWeek3 = pd.read_csv(\"playsWeek3.csv\")\n",
        "playsWeek4 = pd.read_csv(\"playsWeek4.csv\")\n",
        "playsWeek5 = pd.read_csv(\"playsWeek5.csv\")\n",
        "playsWeek6 = pd.read_csv(\"playsWeek6.csv\")\n",
        "playsWeek7 = pd.read_csv(\"playsWeek7.csv\")\n",
        "playsWeek8 = pd.read_csv(\"playsWeek8.csv\")\n",
        "playsWeek9 = pd.read_csv(\"playsWeek9.csv\")\n",
        "rallyDataWeek1 = pd.read_csv(\"rallyDataWeek1.csv\")\n",
        "rallyDataWeek2 = pd.read_csv(\"rallyDataWeek2.csv\")\n",
        "rallyDataWeek3 = pd.read_csv(\"rallyDataWeek3.csv\")\n",
        "rallyDataWeek4 = pd.read_csv(\"rallyDataWeek4.csv\")\n",
        "rallyDataWeek5 = pd.read_csv(\"rallyDataWeek5.csv\")\n",
        "rallyDataWeek6 = pd.read_csv(\"rallyDataWeek6.csv\")\n",
        "rallyDataWeek7 = pd.read_csv(\"rallyDataWeek7.csv\")\n",
        "rallyDataWeek8 = pd.read_csv(\"rallyDataWeek8.csv\")\n",
        "rallyDataWeek9 = pd.read_csv(\"rallyDataWeek9.csv\")"
      ],
      "metadata": {
        "id": "pgpIKbiH5SX5"
      },
      "execution_count": null,
      "outputs": []
    },
    {
      "cell_type": "code",
      "source": [
        "# These are for the rally calculations 1 second after the catch is made, or Frame 16\n",
        "\n",
        "playsWeek1F14on = pd.read_csv(\"playsWeek1(tackle14+).csv\")\n",
        "playsWeek2F14on = pd.read_csv(\"playsWeek2(tackle14+).csv\")\n",
        "playsWeek3F14on = pd.read_csv(\"playsWeek3(tackle14+).csv\")\n",
        "playsWeek4F14on = pd.read_csv(\"playsWeek4(tackle14+).csv\")\n",
        "playsWeek5F14on = pd.read_csv(\"playsWeek5(tackle14+).csv\")\n",
        "playsWeek6F14on = pd.read_csv(\"playsWeek6(tackle14+).csv\")\n",
        "playsWeek7F14on = pd.read_csv(\"playsWeek7(tackle14+).csv\")\n",
        "playsWeek8F14on = pd.read_csv(\"playsWeek8(tackle14+).csv\")\n",
        "playsWeek9F14on = pd.read_csv(\"playsWeek9(tackle14+).csv\")\n",
        "F16rallyDataWeek1 = pd.read_csv(\"F16rallyDataWeek1.csv\")\n",
        "F16rallyDataWeek2 = pd.read_csv(\"F16rallyDataWeek2.csv\")\n",
        "F16rallyDataWeek3 = pd.read_csv(\"F16rallyDataWeek3.csv\")\n",
        "F16rallyDataWeek4 = pd.read_csv(\"F16rallyDataWeek4.csv\")\n",
        "F16rallyDataWeek5 = pd.read_csv(\"F16rallyDataWeek5.csv\")\n",
        "F16rallyDataWeek6 = pd.read_csv(\"F16rallyDataWeek6.csv\")\n",
        "F16rallyDataWeek7 = pd.read_csv(\"F16rallyDataWeek7.csv\")\n",
        "F16rallyDataWeek8 = pd.read_csv(\"F16rallyDataWeek8.csv\")\n",
        "F16rallyDataWeek9 = pd.read_csv(\"F16rallyDataWeek9.csv\")"
      ],
      "metadata": {
        "id": "Q4pAr7uXk_Gu"
      },
      "execution_count": null,
      "outputs": []
    },
    {
      "cell_type": "markdown",
      "source": [
        "# Defining Functions"
      ],
      "metadata": {
        "id": "C4izD5jD9n3z"
      }
    },
    {
      "cell_type": "code",
      "source": [
        "#How I set the rally calculations to run, in this case it's set up for Week 6, 1 second after the catch.\n",
        "\n",
        "playsToUse = playsWeek6F14on\n",
        "dataToUse = F16rallyDataWeek6\n",
        "frameNum = 16\n",
        "\n",
        "gameNumbers = []\n",
        "playNumbers = []\n",
        "for play,row in playsToUse.iterrows():\n",
        "  gameNumbers.append(row['gameId'])\n",
        "  playNumbers.append(row['playId'])"
      ],
      "metadata": {
        "id": "g8QOeerrRjGM"
      },
      "execution_count": null,
      "outputs": []
    },
    {
      "cell_type": "code",
      "source": [
        "#creating the spatial area\n",
        "x, y = np.mgrid[0:(120/3):1, 0:120:1]\n",
        "locations = np.dstack((x, y))\n",
        "mean_x = 0\n",
        "mean_y = 0\n",
        "rally_Score = np.array([])\n",
        "\n",
        "#DefpdfBuilders creates the 3D spatial influence mapping for all 11 defensive players in the DefensePdfs list\n",
        "def DefpdfBuilders(dataToUse, gameSelect, playSelect, frameSelect):\n",
        "  DefensePdfs = []\n",
        "  m = 0\n",
        "  for index, row in dataToUse.iterrows():\n",
        "    if row['gameId'] == gameSelect and row['playId'] == playSelect and row['frameId'] == frameSelect and row['club'] == row['defensiveTeam']:\n",
        "      #the following steps are coded from Bornn and Fernandez's 2018 paper with assist from Inayatali, Hocevar, and White's 2023 BDB entry.\n",
        "      speedUsage=(row['s']**2)/(121)\n",
        "      upLeftScaling=(row['total_dist_from_ball']+row['total_dist_from_ball']*speedUsage)/2\n",
        "      bottomRightScaling=(row['total_dist_from_ball']-row['total_dist_from_ball']*speedUsage)/2\n",
        "      r_matrix = [(row['hcomp'], -row['vcomp']),(row['vcomp'], row['hcomp'])];\n",
        "      r_matrix = pd.DataFrame(data=r_matrix)\n",
        "      s_matrix=[(upLeftScaling+.0000001,0), (0, bottomRightScaling-.0000001)]\n",
        "      s_matrix=pd.DataFrame(data=s_matrix)\n",
        "      inverse_r_Matrix=np.linalg.inv(r_matrix)\n",
        "      Matrixmult=r_matrix.dot(s_matrix)\n",
        "      nextMatrix=Matrixmult.dot(s_matrix)\n",
        "      covariance_matrix=nextMatrix.dot(inverse_r_Matrix)\n",
        "      mean_x=row['x']+row['h_speed']*0.5\n",
        "      mean_y=row['y']+row['v_speed']*0.5\n",
        "      means=[mean_x,mean_y]\n",
        "      #player_pdf creates the influence map\n",
        "      player_pdf=scipy.stats.multivariate_normal(means,covariance_matrix).pdf(locations)\n",
        "      #percent_player_pdf shows the percentage of their total influence at any one point\n",
        "      percent_player_pdf = player_pdf/np.sum(np.sum(player_pdf, axis=1), axis=0)\n",
        "      DefensePdfs.append(percent_player_pdf)\n",
        "      # m is used to limit runtime\n",
        "      m += 1\n",
        "      if m == 11:\n",
        "        return(DefensePdfs)\n",
        "\n",
        "#BCpdfBuilder (Ball Carrier = BC) creates the influence spatial mapping for the offensive player, with values going up to 5 yards out\n",
        "def BCpdfBuilder(dataToUse, gameSelect, playSelect, frameSelect):\n",
        "  m = 0\n",
        "  for index, row in dataToUse.iterrows():\n",
        "    if  row['gameId'] == gameSelect and row['playId'] == playSelect and row['frameId'] == frameSelect and row['nflId'] == row['ballCarrierId']:\n",
        "      ballCarrierX = row['x']+row['h_speed']*0.5\n",
        "      ballCarrierY = row['y']+row['v_speed']*0.5\n",
        "      ballCarrierCoord = [ballCarrierX, ballCarrierY]\n",
        "      ballCarrier_pdf=scipy.stats.multivariate_normal([ballCarrierX,ballCarrierY],[[5,0],[0,5]]).pdf(locations)\n",
        "      m = 1\n",
        "      if m == 1:\n",
        "        return(ballCarrier_pdf)\n",
        "\n",
        "def evaluator(defenders, carrier):\n",
        "  values = []\n",
        "  for DefPlayerPDF in defenders:\n",
        "    result = np.array(DefPlayerPDF) * np.array(carrier)\n",
        "    swarm_val = np.sum(np.sum(result, axis=1), axis=0) / np.sum(np.sum(carrier, axis=1), axis=0)\n",
        "    values.append(swarm_val)\n",
        "  count = 0\n",
        "  for value in values:\n",
        "    if value > 0.0055:\n",
        "      # 0.0055 was the arbitrary value I found to give the results that most accurately represented the film\n",
        "      #(0.006 was more often than not impacting the play, while 0.005 was not.)\n",
        "      count = count + 1\n",
        "  return(count)\n",
        "\n",
        "\n",
        "# the following two functions, supercheck and DefpdfChecker, I created for me to understand the internal process\n",
        "def supercheck(defenders, carrier):\n",
        "  values = []\n",
        "  for DefPlayerPDF in defenders:\n",
        "    result = np.array(DefPlayerPDF) * np.array(carrier)\n",
        "    swarm_val = np.sum(np.sum(result, axis=1), axis=0) / np.sum(np.sum(carrier, axis=1), axis=0)\n",
        "    values.append(swarm_val)\n",
        "  count = 0\n",
        "  for value in values:\n",
        "    if value > 0.0055:\n",
        "      count = count + 1\n",
        "    print(value)\n",
        "    print(count)\n",
        "  return(count)\n",
        "\n",
        "def DefpdfChecker(dataToUse, gameSelect, playSelect, frameSelect):\n",
        "  DefensePdfs = []\n",
        "  m = 0\n",
        "  for index, row in dataToUse.iterrows():\n",
        "    if row['gameId'] == gameSelect and row['playId'] == playSelect and row['frameId'] == frameSelect and row['club'] == row['defensiveTeam']:\n",
        "      speedUsage=(row['s']**2)/(121)\n",
        "      upLeftScaling=(row['total_dist_from_ball']+row['total_dist_from_ball']*speedUsage)/2\n",
        "      bottomRightScaling=(row['total_dist_from_ball']-row['total_dist_from_ball']*speedUsage)/2\n",
        "      r_matrix = [(row['hcomp'], -row['vcomp']),(row['vcomp'], row['hcomp'])];\n",
        "      r_matrix = pd.DataFrame(data=r_matrix)\n",
        "      s_matrix=[(upLeftScaling+.0000001,0), (0, bottomRightScaling-.0000001)]\n",
        "      s_matrix=pd.DataFrame(data=s_matrix)\n",
        "      inverse_r_Matrix=np.linalg.inv(r_matrix)\n",
        "      Matrixmult=r_matrix.dot(s_matrix)\n",
        "      nextMatrix=Matrixmult.dot(s_matrix)\n",
        "      covariance_matrix=nextMatrix.dot(inverse_r_Matrix)\n",
        "      mean_x=row['x']+row['h_speed']*0.5\n",
        "      mean_y=row['y']+row['v_speed']*0.5\n",
        "      means=[mean_x,mean_y]\n",
        "      player_pdf=scipy.stats.multivariate_normal(means,covariance_matrix).pdf(locations)\n",
        "      percent_player_pdf = player_pdf/np.sum(np.sum(player_pdf, axis=1), axis=0)\n",
        "      DefensePdfs.append(percent_player_pdf)\n",
        "      print(row['displayName'])\n",
        "      m += 1\n",
        "      if m == 11:\n",
        "        return(DefensePdfs)\n",
        "\n",
        "\n",
        "\n",
        "def playTester(dataToUse, gametotest, playtotest, frametotest):\n",
        "  print(supercheck(DefpdfChecker(dataToUse, gametotest, playtotest, frametotest),BCpdfBuilder(dataToUse, gametotest,playtotest, frametotest)))"
      ],
      "metadata": {
        "id": "GWjlmx6rnK6j"
      },
      "execution_count": 4,
      "outputs": []
    },
    {
      "cell_type": "markdown",
      "source": [
        "# Calling the Functions"
      ],
      "metadata": {
        "id": "4fRZGOH993i7"
      }
    },
    {
      "cell_type": "code",
      "source": [
        "#used to produce the results\n",
        "for GS, PS in zip(gameNumbers, playNumbers):\n",
        "  swarm_Score = np.append(rally_Score,evaluator(DefpdfBuilders(dataToUse, GS, PS, frameNum),BCpdfBuilder(dataToUse, GS,PS, frameNum)))\n",
        "\n",
        "\n",
        "playsToUse['F16swarm'] = swarm_Score"
      ],
      "metadata": {
        "id": "4i8VMISnI_de"
      },
      "execution_count": null,
      "outputs": []
    },
    {
      "cell_type": "code",
      "source": [
        "#used to test the results\n",
        "playTester(dataToUse, 2022102300, 3376)"
      ],
      "metadata": {
        "id": "705PM6EIH8Ln"
      },
      "execution_count": null,
      "outputs": []
    },
    {
      "cell_type": "code",
      "source": [
        "#used to create csv files of results for plugging back into R\n",
        "from google.colab import files\n",
        "playsToUse.to_csv('outputWeek6F14on.csv')\n",
        "files.download('outputWeek6F14on.csv')"
      ],
      "metadata": {
        "id": "N0opuQIEqoUA"
      },
      "execution_count": null,
      "outputs": []
    },
    {
      "cell_type": "markdown",
      "source": [
        "# 3D Visualizations"
      ],
      "metadata": {
        "id": "bpyXa0MS-6H0"
      }
    },
    {
      "cell_type": "code",
      "source": [
        "for distribution in DefensePdfs:\n",
        "  fig = plt.figure()\n",
        "  ax = fig.add_subplot(projection='3d')\n",
        "  ax.plot_surface(x,y,distribution,cmap='viridis',linewidth=0)\n",
        "  ax.set_xlabel('X axis')\n",
        "  ax.set_ylabel('Y axis')\n",
        "  ax.set_zlabel('Z axis')\n",
        "  plt.show()"
      ],
      "metadata": {
        "id": "66XMQ7pJ7YqK"
      },
      "execution_count": null,
      "outputs": []
    },
    {
      "cell_type": "code",
      "source": [
        "fig = plt.figure()\n",
        "ax = fig.add_subplot(projection='3d')\n",
        "ax.plot_surface(x,y,ballCarrier_pdf,cmap='viridis',linewidth=0)\n",
        "ax.set_xlabel('X axis')\n",
        "ax.set_ylabel('Y axis')\n",
        "ax.set_zlabel('Z axis')\n",
        "plt.show()"
      ],
      "metadata": {
        "id": "7RCNhK8ZvSIp"
      },
      "execution_count": null,
      "outputs": []
    },
    {
      "cell_type": "markdown",
      "source": [
        "# Example Play Calculations"
      ],
      "metadata": {
        "id": "BQCxklF7UNFT"
      }
    },
    {
      "cell_type": "code",
      "source": [
        "dataToUse = pd.read_csv('/dataVizExample.csv')\n",
        "\n",
        "playTester(dataToUse, 2022091800, 2858, 6)"
      ]
